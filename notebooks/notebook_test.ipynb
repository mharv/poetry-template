{
 "cells": [
  {
   "cell_type": "code",
   "execution_count": 10,
   "id": "931b4924-2fe2-4e42-9bd6-1356acf78db2",
   "metadata": {},
   "outputs": [],
   "source": [
    "import sys\n",
    "import os\n",
    "\n",
    "# Add the parent directory to the Python path\n",
    "parent_dir = os.path.abspath(os.path.join(os.getcwd(), os.pardir))\n",
    "sys.path.append(parent_dir)"
   ]
  },
  {
   "cell_type": "code",
   "execution_count": 11,
   "id": "f35c60ec-179a-499b-9d59-41a12bf131cf",
   "metadata": {},
   "outputs": [],
   "source": [
    "from typing import List\n",
    "from utils import functions"
   ]
  },
  {
   "cell_type": "code",
   "execution_count": 13,
   "id": "c0816fda",
   "metadata": {},
   "outputs": [
    {
     "data": {
      "text/plain": [
       "[787, 1574, 2361]"
      ]
     },
     "execution_count": 13,
     "metadata": {},
     "output_type": "execute_result"
    }
   ],
   "source": [
    "functions.multiply_array([1, 2, 3], 787)"
   ]
  },
  {
   "cell_type": "code",
   "execution_count": null,
   "id": "7e35d2d8",
   "metadata": {},
   "outputs": [],
   "source": []
  }
 ],
 "metadata": {
  "kernelspec": {
   "display_name": "Python 3 (ipykernel)",
   "language": "python",
   "name": "python3"
  },
  "language_info": {
   "codemirror_mode": {
    "name": "ipython",
    "version": 3
   },
   "file_extension": ".py",
   "mimetype": "text/x-python",
   "name": "python",
   "nbconvert_exporter": "python",
   "pygments_lexer": "ipython3",
   "version": "3.10.12"
  }
 },
 "nbformat": 4,
 "nbformat_minor": 5
}
